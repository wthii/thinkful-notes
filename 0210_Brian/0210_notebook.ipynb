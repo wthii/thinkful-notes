{
 "cells": [
  {
   "cell_type": "code",
   "execution_count": 26,
   "metadata": {
    "collapsed": false
   },
   "outputs": [],
   "source": [
    "import pandas as pd\n",
    "import numpy as np\n",
    "%matplotlib inline"
   ]
  },
  {
   "cell_type": "code",
   "execution_count": 9,
   "metadata": {
    "collapsed": true
   },
   "outputs": [],
   "source": [
    "df = pd.read_csv(\"https://raw.githubusercontent.com/suneel0101/lesson-plan/master/crunchbase_monthly_export.csv\")"
   ]
  },
  {
   "cell_type": "code",
   "execution_count": 11,
   "metadata": {
    "collapsed": true
   },
   "outputs": [],
   "source": [
    "#df"
   ]
  },
  {
   "cell_type": "code",
   "execution_count": 12,
   "metadata": {
    "collapsed": false
   },
   "outputs": [
    {
     "name": "stdout",
     "output_type": "stream",
     "text": [
      "['permalink', 'name', 'homepage_url', 'category_list', ' market ', ' funding_total_usd ', 'status', 'country_code', 'state_code', 'region', 'city', 'funding_rounds', 'founded_at', 'founded_month', 'founded_quarter', 'founded_year', 'first_funding_at', 'last_funding_at', 'Unnamed: 18']\n"
     ]
    }
   ],
   "source": [
    "print list(df.columns)"
   ]
  },
  {
   "cell_type": "code",
   "execution_count": 17,
   "metadata": {
    "collapsed": false
   },
   "outputs": [
    {
     "data": {
      "text/plain": [
       "0       750,000 \n",
       "1     1,750,000 \n",
       "2     4,000,000 \n",
       "3        40,000 \n",
       "4     1,500,000 \n",
       "Name:  funding_total_usd , dtype: object"
      ]
     },
     "execution_count": 17,
     "metadata": {},
     "output_type": "execute_result"
    }
   ],
   "source": [
    "df[' funding_total_usd '].head()"
   ]
  },
  {
   "cell_type": "code",
   "execution_count": null,
   "metadata": {
    "collapsed": true
   },
   "outputs": [],
   "source": [
    "# pandas did not recognise this colum as a float .. "
   ]
  },
  {
   "cell_type": "code",
   "execution_count": 19,
   "metadata": {
    "collapsed": false
   },
   "outputs": [
    {
     "data": {
      "text/plain": [
       "' 1,750,000 '"
      ]
     },
     "execution_count": 19,
     "metadata": {},
     "output_type": "execute_result"
    }
   ],
   "source": [
    "df[' funding_total_usd '].iloc[1]"
   ]
  },
  {
   "cell_type": "code",
   "execution_count": 20,
   "metadata": {
    "collapsed": false
   },
   "outputs": [
    {
     "data": {
      "text/plain": [
       "' 4,000,000 '"
      ]
     },
     "execution_count": 20,
     "metadata": {},
     "output_type": "execute_result"
    }
   ],
   "source": [
    "df[' funding_total_usd '].iloc[2]"
   ]
  },
  {
   "cell_type": "code",
   "execution_count": 21,
   "metadata": {
    "collapsed": false
   },
   "outputs": [
    {
     "data": {
      "text/plain": [
       "' 1,750,000  4,000,000 '"
      ]
     },
     "execution_count": 21,
     "metadata": {},
     "output_type": "execute_result"
    }
   ],
   "source": [
    "df[' funding_total_usd '].iloc[1]+df[' funding_total_usd '].iloc[2]"
   ]
  },
  {
   "cell_type": "code",
   "execution_count": 22,
   "metadata": {
    "collapsed": true
   },
   "outputs": [],
   "source": [
    "# so how do we deal wiht this... we need to conver this column into integers"
   ]
  },
  {
   "cell_type": "code",
   "execution_count": 41,
   "metadata": {
    "collapsed": true
   },
   "outputs": [],
   "source": [
    "def _convert_to_intes(a):\n",
    "    if a.strip() != '-':\n",
    "        return int(a.replace(',',''))\n",
    "    else:\n",
    "        return np.nan\n"
   ]
  },
  {
   "cell_type": "code",
   "execution_count": 42,
   "metadata": {
    "collapsed": false
   },
   "outputs": [
    {
     "data": {
      "text/plain": [
       "0           750000.0\n",
       "1          1750000.0\n",
       "2          4000000.0\n",
       "3            40000.0\n",
       "4          1500000.0\n",
       "5           600000.0\n",
       "6          7000000.0\n",
       "7          4912393.0\n",
       "8          2000000.0\n",
       "9                NaN\n",
       "10         1700000.0\n",
       "11           40000.0\n",
       "12               NaN\n",
       "13               NaN\n",
       "14         1750000.0\n",
       "15               NaN\n",
       "16         2050000.0\n",
       "17           40000.0\n",
       "18          500000.0\n",
       "19               NaN\n",
       "20         2535000.0\n",
       "21         4462651.0\n",
       "22         1869079.0\n",
       "23        10000000.0\n",
       "24         3000000.0\n",
       "25         3000000.0\n",
       "26         1250000.0\n",
       "27        35000000.0\n",
       "28           50000.0\n",
       "29         1600000.0\n",
       "            ...     \n",
       "44920       651000.0\n",
       "44921      3500000.0\n",
       "44922       190000.0\n",
       "44923       100000.0\n",
       "44924       870000.0\n",
       "44925      3845100.0\n",
       "44926     45750000.0\n",
       "44927            NaN\n",
       "44928      9000000.0\n",
       "44929      3384225.0\n",
       "44930       800000.0\n",
       "44931        75000.0\n",
       "44932     12039999.0\n",
       "44933      2257464.0\n",
       "44934     38900000.0\n",
       "44935            NaN\n",
       "44936            NaN\n",
       "44937      3805520.0\n",
       "44938    866550786.0\n",
       "44939     25000000.0\n",
       "44940     14750000.0\n",
       "44941     34275015.0\n",
       "44942     15398910.0\n",
       "44943      1510500.0\n",
       "44944      2686600.0\n",
       "44945       120000.0\n",
       "44946      1587301.0\n",
       "44947        71525.0\n",
       "44948      9300000.0\n",
       "44949     45000000.0\n",
       "Name:  funding_total_usd , dtype: float64"
      ]
     },
     "execution_count": 42,
     "metadata": {},
     "output_type": "execute_result"
    }
   ],
   "source": [
    "df[' funding_total_usd '].apply(_convert_to_intes)"
   ]
  },
  {
   "cell_type": "code",
   "execution_count": null,
   "metadata": {
    "collapsed": false
   },
   "outputs": [],
   "source": [
    "df[' funding_total_usd '].iloc[9]"
   ]
  },
  {
   "cell_type": "code",
   "execution_count": null,
   "metadata": {
    "collapsed": true
   },
   "outputs": [],
   "source": []
  },
  {
   "cell_type": "code",
   "execution_count": null,
   "metadata": {
    "collapsed": true
   },
   "outputs": [],
   "source": []
  }
 ],
 "metadata": {
  "anaconda-cloud": {},
  "kernelspec": {
   "display_name": "Python [conda root]",
   "language": "python",
   "name": "conda-root-py"
  },
  "language_info": {
   "codemirror_mode": {
    "name": "ipython",
    "version": 2
   },
   "file_extension": ".py",
   "mimetype": "text/x-python",
   "name": "python",
   "nbconvert_exporter": "python",
   "pygments_lexer": "ipython2",
   "version": "2.7.12"
  }
 },
 "nbformat": 4,
 "nbformat_minor": 1
}
