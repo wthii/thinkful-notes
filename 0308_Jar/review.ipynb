{
 "cells": [
  {
   "cell_type": "code",
   "execution_count": 1,
   "metadata": {
    "collapsed": true
   },
   "outputs": [],
   "source": [
    "import pandas as pd"
   ]
  },
  {
   "cell_type": "code",
   "execution_count": 3,
   "metadata": {
    "collapsed": false
   },
   "outputs": [],
   "source": [
    "df = pd.read_csv('spacex-missions.zip')"
   ]
  },
  {
   "cell_type": "code",
   "execution_count": 7,
   "metadata": {
    "collapsed": false
   },
   "outputs": [
    {
     "data": {
      "text/plain": [
       "Index([u'Flight Number', u'Launch Date', u'Launch Time', u'Launch Site',\n",
       "       u'Vehicle Type', u'Payload Name', u'Payload Type', u'Payload Mass (kg)',\n",
       "       u'Payload Orbit', u'Customer Name', u'Customer Type',\n",
       "       u'Customer Country', u'Mission Outcome', u'Failure Reason',\n",
       "       u'Landing Type', u'Landing Outcome'],\n",
       "      dtype='object')"
      ]
     },
     "execution_count": 7,
     "metadata": {},
     "output_type": "execute_result"
    }
   ],
   "source": [
    "df.columns"
   ]
  },
  {
   "cell_type": "code",
   "execution_count": 13,
   "metadata": {
    "collapsed": false
   },
   "outputs": [
    {
     "data": {
      "text/html": [
       "<div>\n",
       "<table border=\"1\" class=\"dataframe\">\n",
       "  <thead>\n",
       "    <tr style=\"text-align: right;\">\n",
       "      <th></th>\n",
       "      <th>Flight Number</th>\n",
       "      <th>Launch Date</th>\n",
       "      <th>Launch Time</th>\n",
       "      <th>Launch Site</th>\n",
       "      <th>Vehicle Type</th>\n",
       "      <th>Payload Name</th>\n",
       "      <th>Payload Type</th>\n",
       "      <th>Payload Mass (kg)</th>\n",
       "      <th>Payload Orbit</th>\n",
       "      <th>Customer Name</th>\n",
       "      <th>Customer Type</th>\n",
       "      <th>Customer Country</th>\n",
       "      <th>Mission Outcome</th>\n",
       "      <th>Failure Reason</th>\n",
       "      <th>Landing Type</th>\n",
       "      <th>Landing Outcome</th>\n",
       "    </tr>\n",
       "  </thead>\n",
       "  <tbody>\n",
       "    <tr>\n",
       "      <th>0</th>\n",
       "      <td>F1-1</td>\n",
       "      <td>24 March 2006</td>\n",
       "      <td>22:30</td>\n",
       "      <td>Marshall Islands</td>\n",
       "      <td>Falcon 1</td>\n",
       "      <td>FalconSAT-2</td>\n",
       "      <td>Research Satellite</td>\n",
       "      <td>19.5</td>\n",
       "      <td>NaN</td>\n",
       "      <td>DARPA</td>\n",
       "      <td>Government</td>\n",
       "      <td>United States</td>\n",
       "      <td>Failure</td>\n",
       "      <td>Engine Fire During Launch</td>\n",
       "      <td>NaN</td>\n",
       "      <td>NaN</td>\n",
       "    </tr>\n",
       "    <tr>\n",
       "      <th>1</th>\n",
       "      <td>F1-2</td>\n",
       "      <td>21 March 2007</td>\n",
       "      <td>01:10</td>\n",
       "      <td>Marshall Islands</td>\n",
       "      <td>Falcon 1</td>\n",
       "      <td>DemoSat</td>\n",
       "      <td>NaN</td>\n",
       "      <td>NaN</td>\n",
       "      <td>NaN</td>\n",
       "      <td>DARPA</td>\n",
       "      <td>Government</td>\n",
       "      <td>United States</td>\n",
       "      <td>Failure</td>\n",
       "      <td>Engine Shutdown During Launch</td>\n",
       "      <td>NaN</td>\n",
       "      <td>NaN</td>\n",
       "    </tr>\n",
       "    <tr>\n",
       "      <th>2</th>\n",
       "      <td>F1-3</td>\n",
       "      <td>3 August 2008</td>\n",
       "      <td>03:34</td>\n",
       "      <td>Marshall Islands</td>\n",
       "      <td>Falcon 1</td>\n",
       "      <td>Trailblazer</td>\n",
       "      <td>Communication Satellite</td>\n",
       "      <td>NaN</td>\n",
       "      <td>NaN</td>\n",
       "      <td>ORS</td>\n",
       "      <td>Government</td>\n",
       "      <td>United States</td>\n",
       "      <td>Failure</td>\n",
       "      <td>Collision During Launch</td>\n",
       "      <td>NaN</td>\n",
       "      <td>NaN</td>\n",
       "    </tr>\n",
       "    <tr>\n",
       "      <th>3</th>\n",
       "      <td>F1-3</td>\n",
       "      <td>3 August 2008</td>\n",
       "      <td>03:34</td>\n",
       "      <td>Marshall Islands</td>\n",
       "      <td>Falcon 1</td>\n",
       "      <td>PRESat, NanoSail-D</td>\n",
       "      <td>Research Satellites</td>\n",
       "      <td>8.0</td>\n",
       "      <td>NaN</td>\n",
       "      <td>NASA</td>\n",
       "      <td>Government</td>\n",
       "      <td>United States</td>\n",
       "      <td>Failure</td>\n",
       "      <td>Collision During Launch</td>\n",
       "      <td>NaN</td>\n",
       "      <td>NaN</td>\n",
       "    </tr>\n",
       "    <tr>\n",
       "      <th>4</th>\n",
       "      <td>F1-3</td>\n",
       "      <td>3 August 2008</td>\n",
       "      <td>03:34</td>\n",
       "      <td>Marshall Islands</td>\n",
       "      <td>Falcon 1</td>\n",
       "      <td>Explorers</td>\n",
       "      <td>Human Remains</td>\n",
       "      <td>NaN</td>\n",
       "      <td>NaN</td>\n",
       "      <td>Celestis</td>\n",
       "      <td>Business</td>\n",
       "      <td>United States</td>\n",
       "      <td>Failure</td>\n",
       "      <td>Collision During Launch</td>\n",
       "      <td>NaN</td>\n",
       "      <td>NaN</td>\n",
       "    </tr>\n",
       "  </tbody>\n",
       "</table>\n",
       "</div>"
      ],
      "text/plain": [
       "  Flight Number    Launch Date Launch Time       Launch Site Vehicle Type  \\\n",
       "0          F1-1  24 March 2006       22:30  Marshall Islands     Falcon 1   \n",
       "1          F1-2  21 March 2007       01:10  Marshall Islands     Falcon 1   \n",
       "2          F1-3  3 August 2008       03:34  Marshall Islands     Falcon 1   \n",
       "3          F1-3  3 August 2008       03:34  Marshall Islands     Falcon 1   \n",
       "4          F1-3  3 August 2008       03:34  Marshall Islands     Falcon 1   \n",
       "\n",
       "         Payload Name             Payload Type  Payload Mass (kg)  \\\n",
       "0         FalconSAT-2       Research Satellite               19.5   \n",
       "1             DemoSat                      NaN                NaN   \n",
       "2         Trailblazer  Communication Satellite                NaN   \n",
       "3  PRESat, NanoSail-D      Research Satellites                8.0   \n",
       "4           Explorers            Human Remains                NaN   \n",
       "\n",
       "  Payload Orbit Customer Name Customer Type Customer Country Mission Outcome  \\\n",
       "0           NaN         DARPA    Government    United States         Failure   \n",
       "1           NaN         DARPA    Government    United States         Failure   \n",
       "2           NaN           ORS    Government    United States         Failure   \n",
       "3           NaN          NASA    Government    United States         Failure   \n",
       "4           NaN      Celestis      Business    United States         Failure   \n",
       "\n",
       "                  Failure Reason Landing Type Landing Outcome  \n",
       "0      Engine Fire During Launch          NaN             NaN  \n",
       "1  Engine Shutdown During Launch          NaN             NaN  \n",
       "2        Collision During Launch          NaN             NaN  \n",
       "3        Collision During Launch          NaN             NaN  \n",
       "4        Collision During Launch          NaN             NaN  "
      ]
     },
     "execution_count": 13,
     "metadata": {},
     "output_type": "execute_result"
    }
   ],
   "source": [
    "df.head()"
   ]
  },
  {
   "cell_type": "code",
   "execution_count": 25,
   "metadata": {
    "collapsed": false
   },
   "outputs": [
    {
     "data": {
      "text/plain": [
       "Launch Site\n",
       "Cape Canaveral AFS LC-40       3075.880\n",
       "Kennedy Space Center LC-39A    2490.000\n",
       "Marshall Islands                 93.125\n",
       "Vandenberg AFB SLC-4E          3551.000\n",
       "Name: Payload Mass (kg), dtype: float64"
      ]
     },
     "execution_count": 25,
     "metadata": {},
     "output_type": "execute_result"
    }
   ],
   "source": [
    "df.groupby('Launch Site')['Payload Mass (kg)'].mean()"
   ]
  },
  {
   "cell_type": "code",
   "execution_count": 27,
   "metadata": {
    "collapsed": false
   },
   "outputs": [
    {
     "data": {
      "text/plain": [
       "0     19.5\n",
       "1      NaN\n",
       "2      NaN\n",
       "3      8.0\n",
       "4      NaN\n",
       "5    165.0\n",
       "6    180.0\n",
       "Name: Payload Mass (kg), dtype: float64"
      ]
     },
     "execution_count": 27,
     "metadata": {},
     "output_type": "execute_result"
    }
   ],
   "source": [
    "df[df['Launch Site']=='Marshall Islands']['Payload Mass (kg)']"
   ]
  },
  {
   "cell_type": "code",
   "execution_count": 29,
   "metadata": {
    "collapsed": false
   },
   "outputs": [
    {
     "data": {
      "text/plain": [
       "93.125"
      ]
     },
     "execution_count": 29,
     "metadata": {},
     "output_type": "execute_result"
    }
   ],
   "source": [
    "(19.5+165+180+8)/4 # we don't"
   ]
  },
  {
   "cell_type": "code",
   "execution_count": null,
   "metadata": {
    "collapsed": true
   },
   "outputs": [],
   "source": []
  },
  {
   "cell_type": "code",
   "execution_count": null,
   "metadata": {
    "collapsed": true
   },
   "outputs": [],
   "source": []
  },
  {
   "cell_type": "code",
   "execution_count": null,
   "metadata": {
    "collapsed": true
   },
   "outputs": [],
   "source": []
  },
  {
   "cell_type": "code",
   "execution_count": null,
   "metadata": {
    "collapsed": true
   },
   "outputs": [],
   "source": []
  },
  {
   "cell_type": "code",
   "execution_count": null,
   "metadata": {
    "collapsed": true
   },
   "outputs": [],
   "source": []
  },
  {
   "cell_type": "code",
   "execution_count": 18,
   "metadata": {
    "collapsed": false
   },
   "outputs": [
    {
     "data": {
      "text/plain": [
       "4159.0    2\n",
       "3600.0    2\n",
       "500.0     2\n",
       "3170.0    1\n",
       "8.0       1\n",
       "3136.0    1\n",
       "4428.0    1\n",
       "2257.0    1\n",
       "150.0     1\n",
       "5271.0    1\n",
       "4696.0    1\n",
       "2395.0    1\n",
       "3100.0    1\n",
       "1952.0    1\n",
       "2490.0    1\n",
       "677.0     1\n",
       "4707.0    1\n",
       "165.0     1\n",
       "2216.0    1\n",
       "553.0     1\n",
       "1898.0    1\n",
       "9600.0    1\n",
       "180.0     1\n",
       "4600.0    1\n",
       "4535.0    1\n",
       "2296.0    1\n",
       "570.0     1\n",
       "5500.0    1\n",
       "3325.0    1\n",
       "19.5      1\n",
       "Name: Payload Mass (kg), dtype: int64"
      ]
     },
     "execution_count": 18,
     "metadata": {},
     "output_type": "execute_result"
    }
   ],
   "source": [
    "df['Payload Mass (kg)'].value_counts()"
   ]
  },
  {
   "cell_type": "code",
   "execution_count": null,
   "metadata": {
    "collapsed": true
   },
   "outputs": [],
   "source": []
  },
  {
   "cell_type": "code",
   "execution_count": null,
   "metadata": {
    "collapsed": true
   },
   "outputs": [],
   "source": []
  },
  {
   "cell_type": "code",
   "execution_count": null,
   "metadata": {
    "collapsed": true
   },
   "outputs": [],
   "source": []
  },
  {
   "cell_type": "code",
   "execution_count": null,
   "metadata": {
    "collapsed": true
   },
   "outputs": [],
   "source": []
  },
  {
   "cell_type": "code",
   "execution_count": 12,
   "metadata": {
    "collapsed": false
   },
   "outputs": [
    {
     "data": {
      "text/html": [
       "<div>\n",
       "<table border=\"1\" class=\"dataframe\">\n",
       "  <thead>\n",
       "    <tr style=\"text-align: right;\">\n",
       "      <th></th>\n",
       "      <th></th>\n",
       "      <th>Mission Outcome</th>\n",
       "    </tr>\n",
       "    <tr>\n",
       "      <th>Vehicle Type</th>\n",
       "      <th>Mission Outcome</th>\n",
       "      <th></th>\n",
       "    </tr>\n",
       "  </thead>\n",
       "  <tbody>\n",
       "    <tr>\n",
       "      <th rowspan=\"2\" valign=\"top\">Falcon 1</th>\n",
       "      <th>Failure</th>\n",
       "      <td>5</td>\n",
       "    </tr>\n",
       "    <tr>\n",
       "      <th>Success</th>\n",
       "      <td>2</td>\n",
       "    </tr>\n",
       "    <tr>\n",
       "      <th rowspan=\"2\" valign=\"top\">Falcon 9 (v1.0)</th>\n",
       "      <th>Success</th>\n",
       "      <td>5</td>\n",
       "    </tr>\n",
       "    <tr>\n",
       "      <th>Failure</th>\n",
       "      <td>1</td>\n",
       "    </tr>\n",
       "    <tr>\n",
       "      <th rowspan=\"2\" valign=\"top\">Falcon 9 (v1.1)</th>\n",
       "      <th>Success</th>\n",
       "      <td>15</td>\n",
       "    </tr>\n",
       "    <tr>\n",
       "      <th>Failure</th>\n",
       "      <td>1</td>\n",
       "    </tr>\n",
       "    <tr>\n",
       "      <th rowspan=\"2\" valign=\"top\">Falcon 9 Full Thrust (v1.2)</th>\n",
       "      <th>Success</th>\n",
       "      <td>11</td>\n",
       "    </tr>\n",
       "    <tr>\n",
       "      <th>Failure</th>\n",
       "      <td>1</td>\n",
       "    </tr>\n",
       "  </tbody>\n",
       "</table>\n",
       "</div>"
      ],
      "text/plain": [
       "                                             Mission Outcome\n",
       "Vehicle Type                Mission Outcome                 \n",
       "Falcon 1                    Failure                        5\n",
       "                            Success                        2\n",
       "Falcon 9 (v1.0)             Success                        5\n",
       "                            Failure                        1\n",
       "Falcon 9 (v1.1)             Success                       15\n",
       "                            Failure                        1\n",
       "Falcon 9 Full Thrust (v1.2) Success                       11\n",
       "                            Failure                        1"
      ]
     },
     "execution_count": 12,
     "metadata": {},
     "output_type": "execute_result"
    }
   ],
   "source": [
    "pd.DataFrame(df.groupby('Vehicle Type')['Mission Outcome'].value_counts())"
   ]
  },
  {
   "cell_type": "code",
   "execution_count": null,
   "metadata": {
    "collapsed": true
   },
   "outputs": [],
   "source": []
  }
 ],
 "metadata": {
  "anaconda-cloud": {},
  "kernelspec": {
   "display_name": "Python [conda root]",
   "language": "python",
   "name": "conda-root-py"
  },
  "language_info": {
   "codemirror_mode": {
    "name": "ipython",
    "version": 2
   },
   "file_extension": ".py",
   "mimetype": "text/x-python",
   "name": "python",
   "nbconvert_exporter": "python",
   "pygments_lexer": "ipython2",
   "version": "2.7.12"
  }
 },
 "nbformat": 4,
 "nbformat_minor": 1
}
